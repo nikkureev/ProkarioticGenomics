{
 "cells": [
  {
   "cell_type": "markdown",
   "metadata": {},
   "source": [
    "# Филогенетический анализ"
   ]
  },
  {
   "cell_type": "markdown",
   "metadata": {},
   "source": [
    "Bacillus subtilis"
   ]
  },
  {
   "cell_type": "markdown",
   "metadata": {},
   "source": [
    "Суммарное число последовательностей 57"
   ]
  },
  {
   "cell_type": "markdown",
   "metadata": {},
   "source": [
    "Гены для конкатенации: \n",
    "gyrA\n",
    "guaB\n",
    "folB\n",
    "secE\n",
    "rpoB\n",
    "rpoC\n",
    "truA\n",
    "purT\n",
    "nadE\n",
    "rsbW\n",
    "moaC\n",
    "purE\n",
    "purK\n",
    "purL\n",
    "purN\n",
    "purD\n",
    "gatC\n",
    "thiC\n",
    "hemE\n",
    "hemH\n",
    "addB\n",
    "argJ\n",
    "argB\n",
    "thiS\n",
    "thiG\n",
    "thiD\n",
    "uxuA\n",
    "purU\n",
    "proA\n",
    "pyrF\n",
    "recG\n",
    "ftsY\n",
    "rimM\n",
    "trmD\n",
    "codY\n",
    "flgB\n",
    "fliE\n",
    "fliG\n",
    "fliJ\n",
    "fliM\n",
    "fliP\n",
    "flhA\n",
    "flhF\n",
    "dxr\n",
    "nusA\n",
    "rbfA\n",
    "truB\n",
    "asd\n",
    "dapA\n",
    "tdh\n",
    "mutS"
   ]
  },
  {
   "cell_type": "code",
   "execution_count": 1,
   "metadata": {},
   "outputs": [],
   "source": [
    "import os\n",
    "from pathlib import Path\n",
    "from Bio import SeqIO\n",
    "from Bio.Seq import Seq\n",
    "from Bio.SeqRecord import SeqRecord"
   ]
  },
  {
   "cell_type": "code",
   "execution_count": 2,
   "metadata": {},
   "outputs": [],
   "source": [
    "def get_cds_feature_with_qualifier_value(seq_record, value):\n",
    "    \"\"\"Function to look for CDS feature by annotation value in sequence record.\n",
    "    \"\"\"\n",
    "    # Loop over the features\n",
    "    for rec in SeqIO.parse(seq_record, \"genbank\"):\n",
    "        for feature in rec.features:\n",
    "            if feature.type == \"CDS\" and value in feature.qualifiers.get('gene', []):\n",
    "                return feature.location.extract(rec.seq)\n",
    "    # Could not find it\n",
    "    return None"
   ]
  },
  {
   "cell_type": "code",
   "execution_count": 55,
   "metadata": {},
   "outputs": [],
   "source": [
    "list_of_genes = ['dapA', 'tdh', 'mutS']"
   ]
  },
  {
   "cell_type": "code",
   "execution_count": 41,
   "metadata": {},
   "outputs": [],
   "source": [
    "list_of_genes = ['gyrA', 'guaB', 'folB', 'secE', 'rpoB', 'rpoC', 'truA', 'purT', 'nadE', 'rsbW', 'moaC', 'purE', 'purK', 'purL', 'purN', 'purD', 'gatC', 'thiC', 'hemE', 'hemH', 'addB', 'argJ', 'argB', 'thiS', 'thiG', 'thiD', 'uxuA', 'purU', 'proA', 'pyrF', 'recG', 'ftsY', 'rimM', 'trmD', 'codY', 'flgB', 'fliE', 'fliG', 'fliJ', 'fliM', 'fliP', 'flhA', 'flhF', 'dxr', 'nusA', 'rbfA', 'truB', 'asd', 'dapA', 'tdh', 'mutS']"
   ]
  },
  {
   "cell_type": "code",
   "execution_count": 56,
   "metadata": {},
   "outputs": [],
   "source": [
    "# Получаем фасту gyrA_Bacillus.fasta со gyrA генами\n",
    "path = '/Users/lolitiy/Documents/Education/inst_bioinf_19_20/prok'\n",
    "for dir_name, d, files in os.walk(path):\n",
    "    # перебираем все гены из списка и создаем \"gene\"_Bacillus.fasta файлы\n",
    "    for gene in list_of_genes:\n",
    "        records = []\n",
    "        for file in files:\n",
    "            if 'gbff' in file:\n",
    "                path_fasta = path + '/' + file\n",
    "                cds_feature = str(get_cds_feature_with_qualifier_value(path_fasta, gene))\n",
    "                record = SeqRecord(Seq(cds_feature.strip(\"''\")),\n",
    "                               id=file.strip('.gbff'),\n",
    "                               name=gene,\n",
    "                               description=gene)\n",
    "                records.append(record)\n",
    "        SeqIO.write(records, \"{}_Bacillus.fasta\".format(gene), \"fasta\")\n",
    "            "
   ]
  },
  {
   "cell_type": "markdown",
   "metadata": {},
   "source": [
    "### Выравниваем последовательности относительно друг друга "
   ]
  },
  {
   "cell_type": "code",
   "execution_count": 53,
   "metadata": {},
   "outputs": [
    {
     "name": "stdout",
     "output_type": "stream",
     "text": [
      "/bin/bash: -c: line 0: syntax error near unexpected token `>'\r\n",
      "/bin/bash: -c: line 0: `for i in *.fasta \\ do \\ mafft ${i}_Bacillus.fasta > ${i}_Bacillus_al.fasta \\ done'\r\n"
     ]
    }
   ],
   "source": [
    "!for i in *.fasta \\ do \\ mafft ${i}_Bacillus.fasta > ${i}_Bacillus_al.fasta \\ done"
   ]
  },
  {
   "cell_type": "markdown",
   "metadata": {},
   "source": [
    "### Делаем конкатенат из 50 fasta файлов"
   ]
  },
  {
   "cell_type": "code",
   "execution_count": 1,
   "metadata": {},
   "outputs": [],
   "source": [
    "!cat *_al.fasta > full_al.fasta"
   ]
  },
  {
   "cell_type": "code",
   "execution_count": 9,
   "metadata": {},
   "outputs": [],
   "source": [
    "from Bio import SeqIO\n",
    "from collections import defaultdict\n",
    "from Bio.Seq import Seq\n",
    "from Bio.SeqRecord import SeqRecord\n",
    "\n",
    "sequence_map = defaultdict(str)\n",
    "\n",
    "for sequence in SeqIO.parse('full_al.fasta', \"fasta\"):\n",
    "    sequence_map[sequence.name] += str(sequence.seq)"
   ]
  },
  {
   "cell_type": "code",
   "execution_count": 13,
   "metadata": {},
   "outputs": [],
   "source": [
    "records = []\n",
    "for key in sorted(sequence_map.keys()):\n",
    "    record = SeqRecord(Seq(sequence_map[key]),\n",
    "                       id=key,\n",
    "                      description='concatenate')\n",
    "    \n",
    "    records.append(record)\n",
    "    SeqIO.write(records, \"all_concat.fasta\", \"fasta\")"
   ]
  },
  {
   "cell_type": "markdown",
   "metadata": {},
   "source": [
    "### Строим деревья с помощью http://iqtree.cibiv.univie.ac.at/  \n",
    "#iqtree -s all_concat.fasta -m TEST -bb 1000 -alrt 1000 \n",
    "\n",
    "- На основании сравнения 1000 альтернативных деревьев  \n",
    "- Алгоритм построения Maximum-likelihood  \n",
    "- Best-fit model: GTR+F+I+G4 chosen according to BIC  "
   ]
  },
  {
   "cell_type": "markdown",
   "metadata": {},
   "source": [
    "Consensus tree written to all_concat.fasta.contree"
   ]
  },
  {
   "cell_type": "markdown",
   "metadata": {},
   "source": [
    "### Визуализация филогенетического дерева с помощью https://itol.embl.de/ с bootstrap > 80%"
   ]
  },
  {
   "cell_type": "markdown",
   "metadata": {},
   "source": [
    "![](RvczxF85-uoHP6virlUg-w.png)"
   ]
  }
 ],
 "metadata": {
  "kernelspec": {
   "display_name": "Python 3",
   "language": "python",
   "name": "python3"
  },
  "language_info": {
   "codemirror_mode": {
    "name": "ipython",
    "version": 3
   },
   "file_extension": ".py",
   "mimetype": "text/x-python",
   "name": "python",
   "nbconvert_exporter": "python",
   "pygments_lexer": "ipython3",
   "version": "3.7.4"
  }
 },
 "nbformat": 4,
 "nbformat_minor": 4
}
